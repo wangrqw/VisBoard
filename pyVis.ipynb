{
 "cells": [
  {
   "cell_type": "code",
   "execution_count": 45,
   "metadata": {},
   "outputs": [],
   "source": [
    "import numpy as np\n",
    "# from info import Info\n",
    "import pandas\n",
    "import json\n",
    "from pandas import DataFrame"
   ]
  },
  {
   "cell_type": "code",
   "execution_count": 46,
   "metadata": {},
   "outputs": [],
   "source": [
    "from sklearn.manifold import TSNE\n",
    "from sklearn.decomposition import PCA\n",
    "from umap import UMAP"
   ]
  },
  {
   "cell_type": "code",
   "execution_count": 47,
   "metadata": {},
   "outputs": [],
   "source": [
    "import seaborn as sns\n",
    "import matplotlib\n",
    "# matplotlib.use('Agg')\n",
    "import matplotlib.pyplot as plt"
   ]
  },
  {
   "cell_type": "code",
   "execution_count": 48,
   "metadata": {},
   "outputs": [],
   "source": [
    "PATH = 'C:/Users/Rachel/Documents/local/pyVis/'"
   ]
  },
  {
   "cell_type": "code",
   "execution_count": 49,
   "metadata": {},
   "outputs": [],
   "source": [
    "def draw_scatter(dot_positions, colors, markers, name='foo', tag='unknown'):\n",
    "    a = dot_positions[:, 0]\n",
    "    b = dot_positions[:, 1]\n",
    "    plt.figure(dpi=1000)\n",
    "    for i in range(0,len(dot_positions)):\n",
    "        plt.scatter(a[i],b[i],c=colors[i],s=10,marker=markers[i],alpha=0.5)\n",
    "    plt.title('{} {}'.format(name, tag))\n",
    "    plt.savefig('{}-{}.pdf'.format(PATH+name,tag), format='pdf')"
   ]
  },
  {
   "cell_type": "code",
   "execution_count": 50,
   "metadata": {},
   "outputs": [],
   "source": [
    "def tsne(data):\n",
    "    data_embedded = TSNE(n_components=2).fit_transform(data) # data.shape = (n_samples, n_components)\n",
    "    return data_embedded\n",
    "\n",
    "def pca(data):\n",
    "    data_embedded = PCA(n_components=2).fit_transform(data) # data.shape = (n_samples, n_components)\n",
    "    return data_embedded\n",
    "\n",
    "def umap(data):\n",
    "    data_embedded = UMAP().fit_transform(data) # data.shape = (n_samples, n_components)\n",
    "    return data_embedded"
   ]
  },
  {
   "cell_type": "code",
   "execution_count": 52,
   "metadata": {},
   "outputs": [
    {
     "data": {
      "text/html": [
       "<div>\n",
       "<style scoped>\n",
       "    .dataframe tbody tr th:only-of-type {\n",
       "        vertical-align: middle;\n",
       "    }\n",
       "\n",
       "    .dataframe tbody tr th {\n",
       "        vertical-align: top;\n",
       "    }\n",
       "\n",
       "    .dataframe thead th {\n",
       "        text-align: right;\n",
       "    }\n",
       "</style>\n",
       "<table border=\"1\" class=\"dataframe\">\n",
       "  <thead>\n",
       "    <tr style=\"text-align: right;\">\n",
       "      <th></th>\n",
       "      <th>Instrument</th>\n",
       "      <th>Artist</th>\n",
       "      <th>Music File Name</th>\n",
       "      <th>Starting Index:</th>\n",
       "      <th>Ending Index</th>\n",
       "      <th>Interval</th>\n",
       "      <th>Dataset</th>\n",
       "      <th>Embedding</th>\n",
       "    </tr>\n",
       "  </thead>\n",
       "  <tbody>\n",
       "    <tr>\n",
       "      <td>0</td>\n",
       "      <td>Zheng</td>\n",
       "      <td>WangWei</td>\n",
       "      <td>01GaoShanLiuShui-m.npy</td>\n",
       "      <td>10309</td>\n",
       "      <td>10889</td>\n",
       "      <td>20</td>\n",
       "      <td>training</td>\n",
       "      <td>[0.0, 0.0, 0.0, 32182494.0, 32695910.0, 0.0, 0...</td>\n",
       "    </tr>\n",
       "    <tr>\n",
       "      <td>100</td>\n",
       "      <td>Zheng</td>\n",
       "      <td>HanTinggui</td>\n",
       "      <td>01GaoShanLiuShui-m.npy</td>\n",
       "      <td>587</td>\n",
       "      <td>1167</td>\n",
       "      <td>20</td>\n",
       "      <td>test</td>\n",
       "      <td>[0.0, 0.0, 0.0, 62105628.0, 60021660.0, 0.0, 0...</td>\n",
       "    </tr>\n",
       "    <tr>\n",
       "      <td>200</td>\n",
       "      <td>Zheng</td>\n",
       "      <td>HanTinggui</td>\n",
       "      <td>02ShuYun-m.npy</td>\n",
       "      <td>2527</td>\n",
       "      <td>3107</td>\n",
       "      <td>20</td>\n",
       "      <td>test</td>\n",
       "      <td>[0.0, 0.0, 0.0, 46095584.0, 46685344.0, 0.0, 0...</td>\n",
       "    </tr>\n",
       "    <tr>\n",
       "      <td>300</td>\n",
       "      <td>Zheng</td>\n",
       "      <td>HanTinggui</td>\n",
       "      <td>03JunMaBenTi-m.npy</td>\n",
       "      <td>6209</td>\n",
       "      <td>6789</td>\n",
       "      <td>20</td>\n",
       "      <td>training</td>\n",
       "      <td>[0.0, 0.0, 0.0, 94060328.0, 95957136.0, 0.0, 0...</td>\n",
       "    </tr>\n",
       "    <tr>\n",
       "      <td>400</td>\n",
       "      <td>Zheng</td>\n",
       "      <td>HanTinggui</td>\n",
       "      <td>04XiangYin-m.npy</td>\n",
       "      <td>8518</td>\n",
       "      <td>9098</td>\n",
       "      <td>20</td>\n",
       "      <td>training</td>\n",
       "      <td>[0.0, 0.0, 0.0, 110186024.0, 106610968.0, 0.0,...</td>\n",
       "    </tr>\n",
       "    <tr>\n",
       "      <td>...</td>\n",
       "      <td>...</td>\n",
       "      <td>...</td>\n",
       "      <td>...</td>\n",
       "      <td>...</td>\n",
       "      <td>...</td>\n",
       "      <td>...</td>\n",
       "      <td>...</td>\n",
       "      <td>...</td>\n",
       "    </tr>\n",
       "    <tr>\n",
       "      <td>32000</td>\n",
       "      <td>BambooFlute</td>\n",
       "      <td>Compilations</td>\n",
       "      <td>08WindyRiver-m.npy</td>\n",
       "      <td>1177</td>\n",
       "      <td>1757</td>\n",
       "      <td>20</td>\n",
       "      <td>training</td>\n",
       "      <td>[0.0, 0.0, 0.0, 68178160.0, 65950536.0, 0.0, 0...</td>\n",
       "    </tr>\n",
       "    <tr>\n",
       "      <td>32100</td>\n",
       "      <td>BambooFlute</td>\n",
       "      <td>Compilations</td>\n",
       "      <td>10TheSunShiningOnTheParmirs-m.npy</td>\n",
       "      <td>6182</td>\n",
       "      <td>6762</td>\n",
       "      <td>20</td>\n",
       "      <td>test</td>\n",
       "      <td>[0.0, 0.0, 0.0, 72872616.0, 73844680.0, 0.0, 0...</td>\n",
       "    </tr>\n",
       "    <tr>\n",
       "      <td>32200</td>\n",
       "      <td>BambooFlute</td>\n",
       "      <td>Compilations</td>\n",
       "      <td>09ACamelCaravan-m.npy</td>\n",
       "      <td>133</td>\n",
       "      <td>713</td>\n",
       "      <td>20</td>\n",
       "      <td>test</td>\n",
       "      <td>[0.0, 0.0, 0.0, 68265344.0, 69061888.0, 0.0, 0...</td>\n",
       "    </tr>\n",
       "    <tr>\n",
       "      <td>32300</td>\n",
       "      <td>BambooFlute</td>\n",
       "      <td>Compilations</td>\n",
       "      <td>11EmbroiderSmallBags-m.npy</td>\n",
       "      <td>4255</td>\n",
       "      <td>4835</td>\n",
       "      <td>20</td>\n",
       "      <td>training</td>\n",
       "      <td>[0.0, 0.0, 0.0, 97362352.0, 98541376.0, 0.0, 0...</td>\n",
       "    </tr>\n",
       "    <tr>\n",
       "      <td>32400</td>\n",
       "      <td>BambooFlute</td>\n",
       "      <td>DuChong</td>\n",
       "      <td>01SaiShangQu-m.npy</td>\n",
       "      <td>20160</td>\n",
       "      <td>20740</td>\n",
       "      <td>20</td>\n",
       "      <td>training</td>\n",
       "      <td>[0.0, 0.0, 0.0, 27467672.0, 26380388.0, 0.0, 0...</td>\n",
       "    </tr>\n",
       "  </tbody>\n",
       "</table>\n",
       "<p>325 rows × 8 columns</p>\n",
       "</div>"
      ],
      "text/plain": [
       "        Instrument        Artist                    Music File Name  \\\n",
       "0            Zheng       WangWei             01GaoShanLiuShui-m.npy   \n",
       "100          Zheng    HanTinggui             01GaoShanLiuShui-m.npy   \n",
       "200          Zheng    HanTinggui                     02ShuYun-m.npy   \n",
       "300          Zheng    HanTinggui                 03JunMaBenTi-m.npy   \n",
       "400          Zheng    HanTinggui                   04XiangYin-m.npy   \n",
       "...            ...           ...                                ...   \n",
       "32000  BambooFlute  Compilations                 08WindyRiver-m.npy   \n",
       "32100  BambooFlute  Compilations  10TheSunShiningOnTheParmirs-m.npy   \n",
       "32200  BambooFlute  Compilations              09ACamelCaravan-m.npy   \n",
       "32300  BambooFlute  Compilations         11EmbroiderSmallBags-m.npy   \n",
       "32400  BambooFlute       DuChong                 01SaiShangQu-m.npy   \n",
       "\n",
       "       Starting Index:  Ending Index  Interval   Dataset  \\\n",
       "0                10309         10889        20  training   \n",
       "100                587          1167        20      test   \n",
       "200               2527          3107        20      test   \n",
       "300               6209          6789        20  training   \n",
       "400               8518          9098        20  training   \n",
       "...                ...           ...       ...       ...   \n",
       "32000             1177          1757        20  training   \n",
       "32100             6182          6762        20      test   \n",
       "32200              133           713        20      test   \n",
       "32300             4255          4835        20  training   \n",
       "32400            20160         20740        20  training   \n",
       "\n",
       "                                               Embedding  \n",
       "0      [0.0, 0.0, 0.0, 32182494.0, 32695910.0, 0.0, 0...  \n",
       "100    [0.0, 0.0, 0.0, 62105628.0, 60021660.0, 0.0, 0...  \n",
       "200    [0.0, 0.0, 0.0, 46095584.0, 46685344.0, 0.0, 0...  \n",
       "300    [0.0, 0.0, 0.0, 94060328.0, 95957136.0, 0.0, 0...  \n",
       "400    [0.0, 0.0, 0.0, 110186024.0, 106610968.0, 0.0,...  \n",
       "...                                                  ...  \n",
       "32000  [0.0, 0.0, 0.0, 68178160.0, 65950536.0, 0.0, 0...  \n",
       "32100  [0.0, 0.0, 0.0, 72872616.0, 73844680.0, 0.0, 0...  \n",
       "32200  [0.0, 0.0, 0.0, 68265344.0, 69061888.0, 0.0, 0...  \n",
       "32300  [0.0, 0.0, 0.0, 97362352.0, 98541376.0, 0.0, 0...  \n",
       "32400  [0.0, 0.0, 0.0, 27467672.0, 26380388.0, 0.0, 0...  \n",
       "\n",
       "[325 rows x 8 columns]"
      ]
     },
     "execution_count": 52,
     "metadata": {},
     "output_type": "execute_result"
    }
   ],
   "source": [
    "filename = 'embedding_results_share_hidden_last_dense'\n",
    "data = pandas.read_json(PATH+filename+'.json')\n",
    "data[::100]"
   ]
  },
  {
   "cell_type": "code",
   "execution_count": 54,
   "metadata": {},
   "outputs": [
    {
     "data": {
      "text/plain": [
       "(400,\n",
       " (6500, 32),\n",
       " array([0.00000000e+00, 0.00000000e+00, 0.00000000e+00, 3.42771300e+06,\n",
       "        3.45967000e+06, 0.00000000e+00, 0.00000000e+00, 0.00000000e+00,\n",
       "        1.32651618e-02, 0.00000000e+00, 1.74772675e+06, 1.21898100e+06,\n",
       "        0.00000000e+00, 5.22949094e+05, 0.00000000e+00, 0.00000000e+00,\n",
       "        6.89433375e+05, 0.00000000e+00, 5.79304550e+06, 3.63894850e+06,\n",
       "        0.00000000e+00, 1.15021988e+06, 5.43549700e+06, 0.00000000e+00,\n",
       "        3.61200342e+03, 0.00000000e+00, 0.00000000e+00, 0.00000000e+00,\n",
       "        1.19456445e+04, 0.00000000e+00, 0.00000000e+00, 6.46661520e-02]),\n",
       " array([0.00000000e+00, 0.00000000e+00, 0.00000000e+00, 1.92175180e+07,\n",
       "        1.95292680e+07, 0.00000000e+00, 0.00000000e+00, 0.00000000e+00,\n",
       "        2.87797749e-02, 0.00000000e+00, 9.85121400e+06, 6.88786350e+06,\n",
       "        0.00000000e+00, 2.89092700e+06, 0.00000000e+00, 0.00000000e+00,\n",
       "        3.92266225e+06, 0.00000000e+00, 3.25042320e+07, 2.05812600e+07,\n",
       "        0.00000000e+00, 6.54001300e+06, 3.05099520e+07, 0.00000000e+00,\n",
       "        6.54588916e+03, 0.00000000e+00, 0.00000000e+00, 0.00000000e+00,\n",
       "        1.68592695e+04, 0.00000000e+00, 0.00000000e+00, 1.59906544e-04]))"
      ]
     },
     "execution_count": 54,
     "metadata": {},
     "output_type": "execute_result"
    }
   ],
   "source": [
    "n_data = data.shape[0]\n",
    "n_per_song = data[data['Music File Name'] == data['Music File Name'][0]].count()[0]\n",
    "STEP = 1\n",
    "n_song = n_data//n_per_song\n",
    "# embed = np.array(data['Embedding'].to_list()[::STEP])\n",
    "embed = np.array(data[data['Dataset']=='test']['Embedding'].to_list())\n",
    "# embed = np.array([np.array(e) for e in embed])\n",
    "n_per_song, embed.shape, embed[0],embed[len(embed)-1], embed"
   ]
  },
  {
   "cell_type": "code",
   "execution_count": 40,
   "metadata": {},
   "outputs": [
    {
     "data": {
      "text/plain": [
       "14"
      ]
     },
     "execution_count": 40,
     "metadata": {},
     "output_type": "execute_result"
    },
    {
     "data": {
      "image/png": "[encoded data removed]",
      "text/plain": [
       "<Figure size 432x288 with 1 Axes>"
      ]
     },
     "metadata": {
      "needs_background": "light"
     },
     "output_type": "display_data"
    }
   ],
   "source": [
    "palette = ['tab:blue','tab:red','tab:green','tab:orange','tab:purple','tab:brown','tab:pink','tab:gray','tab:olive','tab:cyan']\n",
    "add = ['gold','royalblue', 'maroon','magenta']\n",
    "palette.extend(add)\n",
    "plt.barh(np.array(range(len(palette))),np.ones(len(palette)),color=palette,tick_label=palette)\n",
    "len(palette)"
   ]
  },
  {
   "cell_type": "code",
   "execution_count": 41,
   "metadata": {
    "scrolled": true
   },
   "outputs": [
    {
     "data": {
      "text/plain": [
       "Zheng          15900\n",
       "Erhu            7000\n",
       "Pipa            5700\n",
       "BambooFlute     3900\n",
       "Name: Instrument, dtype: int64"
      ]
     },
     "execution_count": 41,
     "metadata": {},
     "output_type": "execute_result"
    }
   ],
   "source": [
    "data['Instrument'].value_counts()"
   ]
  },
  {
   "cell_type": "code",
   "execution_count": 42,
   "metadata": {},
   "outputs": [],
   "source": [
    "list_inst = data['Instrument'].unique().tolist()\n",
    "dict_data = {}\n",
    "for inst in list_inst:\n",
    "    lst = data[data['Instrument']==inst]['Artist'].unique().tolist()\n",
    "    dic = {lst[i]: i for i in range(len(lst))}\n",
    "    dict_data[inst] = dic\n",
    "\n",
    "# dict_data"
   ]
  },
  {
   "cell_type": "code",
   "execution_count": 43,
   "metadata": {},
   "outputs": [
    {
     "data": {
      "text/plain": [
       "(32500, 32500)"
      ]
     },
     "execution_count": 43,
     "metadata": {},
     "output_type": "execute_result"
    }
   ],
   "source": [
    "colors = []\n",
    "markers = []\n",
    "for i in range(0,len(data),STEP):\n",
    "#     m = dict_inst[data['Instrument'][i]]\n",
    "    inst = data['Instrument'][i]\n",
    "    artist = data['Artist'][i]\n",
    "    idx_c = dict_data[inst][artist]\n",
    "    idx_m = list_inst.index(inst)\n",
    "    markers.append(['o','x', '+', '^'][idx_m])\n",
    "    colors.append(palette[idx_c])\n",
    "len(markers), len(colors)"
   ]
  },
  {
   "cell_type": "code",
   "execution_count": null,
   "metadata": {},
   "outputs": [],
   "source": [
    "embed_tsne = tsne(embed)\n",
    "embed_pca = pca(embed)\n",
    "embed_umap = umap(embed)"
   ]
  },
  {
   "cell_type": "code",
   "execution_count": null,
   "metadata": {
    "scrolled": true
   },
   "outputs": [],
   "source": [
    "draw_scatter(embed_tsne, colors, markers, filename, 'tsne')"
   ]
  },
  {
   "cell_type": "code",
   "execution_count": null,
   "metadata": {},
   "outputs": [],
   "source": [
    "draw_scatter(pca(embed), colors, markers, filename, 'pca')"
   ]
  },
  {
   "cell_type": "code",
   "execution_count": null,
   "metadata": {},
   "outputs": [],
   "source": [
    "draw_scatter(umap(embed), colors, markers, filename, 'umap')"
   ]
  },
  {
   "cell_type": "code",
   "execution_count": null,
   "metadata": {},
   "outputs": [],
   "source": [
    "pc_dict = {i: embed[:,i] for i in range(len(embed[0]))}\n",
    "pc_df = pandas.DataFrame.from_dict(pc_dict)\n",
    "pc_df['Song'] = data['Music File Name'].to_list()[::STEP]\n",
    "plt.figure(dpi=1000)\n",
    "ax = pandas.plotting.parallel_coordinates(pc_df, 'Song', alpha=0.1)\n",
    "ax.get_legend().remove()\n",
    "plt.title('{} PCoords'.format(filename))\n",
    "plt.savefig('{}-pc.pdf'.format(PATH+filename), format='pdf')"
   ]
  },
  {
   "cell_type": "code",
   "execution_count": null,
   "metadata": {},
   "outputs": [],
   "source": []
  },
  {
   "cell_type": "code",
   "execution_count": null,
   "metadata": {},
   "outputs": [],
   "source": []
  },
  {
   "cell_type": "code",
   "execution_count": null,
   "metadata": {},
   "outputs": [],
   "source": []
  },
  {
   "cell_type": "code",
   "execution_count": null,
   "metadata": {},
   "outputs": [],
   "source": []
  },
  {
   "cell_type": "code",
   "execution_count": null,
   "metadata": {},
   "outputs": [],
   "source": [
    "df = pandas.read_csv('https://gist.githubusercontent.com/netj/8836201/raw/6f9306ad21398ea43cba4f7d537619d0e07d5ae3/iris.csv')\n",
    "pandas.plotting.parallel_coordinates(df, 'variety')\n",
    "plt.show()\n"
   ]
  },
  {
   "cell_type": "code",
   "execution_count": 34,
   "metadata": {},
   "outputs": [
    {
     "data": {
      "text/plain": [
       "<BarContainer object of 10 artists>"
      ]
     },
     "execution_count": 34,
     "metadata": {},
     "output_type": "execute_result"
    },
    {
     "data": {
      "image/png": "[encoded data removed]",
      "text/plain": [
       "<Figure size 432x288 with 1 Axes>"
      ]
     },
     "metadata": {
      "needs_background": "light"
     },
     "output_type": "display_data"
    }
   ],
   "source": [
    "current_palette = sns.color_palette()\n",
    "current_palette\n",
    "plt.barh(np.array(range(len(current_palette))),np.ones(len(current_palette)),color=current_palette,tick_label=range(len(current_palette)))"
   ]
  }
 ],
 "metadata": {
  "kernelspec": {
   "display_name": "Python 3",
   "language": "python",
   "name": "python3"
  },
  "language_info": {
   "codemirror_mode": {
    "name": "ipython",
    "version": 3
   },
   "file_extension": ".py",
   "mimetype": "text/x-python",
   "name": "python",
   "nbconvert_exporter": "python",
   "pygments_lexer": "ipython3",
   "version": "3.7.4"
  }
 },
 "nbformat": 4,
 "nbformat_minor": 2
}
